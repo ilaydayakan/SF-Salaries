{
 "cells": [
  {
   "cell_type": "code",
   "execution_count": 2,
   "metadata": {},
   "outputs": [
    {
     "name": "stdout",
     "output_type": "stream",
     "text": [
      "<class 'pandas.core.frame.DataFrame'>\n",
      "RangeIndex: 148654 entries, 0 to 148653\n",
      "Data columns (total 13 columns):\n",
      " #   Column            Non-Null Count   Dtype  \n",
      "---  ------            --------------   -----  \n",
      " 0   Id                148654 non-null  int64  \n",
      " 1   EmployeeName      148654 non-null  object \n",
      " 2   JobTitle          148654 non-null  object \n",
      " 3   BasePay           148049 non-null  object \n",
      " 4   OvertimePay       148654 non-null  object \n",
      " 5   OtherPay          148654 non-null  object \n",
      " 6   Benefits          112495 non-null  object \n",
      " 7   TotalPay          148654 non-null  object \n",
      " 8   TotalPayBenefits  148654 non-null  object \n",
      " 9   Year              148654 non-null  int64  \n",
      " 10  Notes             0 non-null       float64\n",
      " 11  Agency            148654 non-null  object \n",
      " 12  Status            38119 non-null   object \n",
      "dtypes: float64(1), int64(2), object(10)\n",
      "memory usage: 14.7+ MB\n",
      "None\n"
     ]
    }
   ],
   "source": [
    "import pandas as pd\n",
    "import numpy as np\n",
    "\n",
    "# Excel dosyasının yolu\n",
    "file_path = r'C:\\Users\\ilayd\\OneDrive\\Masaüstü\\SalariesInSanFranciscoDataSet.xlsx'\n",
    "\n",
    "# Excel dosyasını oku\n",
    "df = pd.read_excel(file_path)\n",
    "\n",
    "# Verinin genel bilgilerini al\n",
    "print(df.info())"
   ]
  },
  {
   "cell_type": "code",
   "execution_count": 4,
   "metadata": {},
   "outputs": [
    {
     "data": {
      "text/html": [
       "<div>\n",
       "<style scoped>\n",
       "    .dataframe tbody tr th:only-of-type {\n",
       "        vertical-align: middle;\n",
       "    }\n",
       "\n",
       "    .dataframe tbody tr th {\n",
       "        vertical-align: top;\n",
       "    }\n",
       "\n",
       "    .dataframe thead th {\n",
       "        text-align: right;\n",
       "    }\n",
       "</style>\n",
       "<table border=\"1\" class=\"dataframe\">\n",
       "  <thead>\n",
       "    <tr style=\"text-align: right;\">\n",
       "      <th></th>\n",
       "      <th>Id</th>\n",
       "      <th>EmployeeName</th>\n",
       "      <th>JobTitle</th>\n",
       "      <th>BasePay</th>\n",
       "      <th>OvertimePay</th>\n",
       "      <th>OtherPay</th>\n",
       "      <th>Benefits</th>\n",
       "      <th>TotalPay</th>\n",
       "      <th>TotalPayBenefits</th>\n",
       "      <th>Year</th>\n",
       "      <th>Notes</th>\n",
       "      <th>Agency</th>\n",
       "      <th>Status</th>\n",
       "    </tr>\n",
       "  </thead>\n",
       "  <tbody>\n",
       "    <tr>\n",
       "      <th>0</th>\n",
       "      <td>1</td>\n",
       "      <td>NATHANIEL FORD</td>\n",
       "      <td>GENERAL MANAGER-METROPOLITAN TRANSIT AUTHORITY</td>\n",
       "      <td>167411.18</td>\n",
       "      <td>0</td>\n",
       "      <td>400184.25</td>\n",
       "      <td>NaN</td>\n",
       "      <td>567595.43</td>\n",
       "      <td>567595.43</td>\n",
       "      <td>2011</td>\n",
       "      <td>NaN</td>\n",
       "      <td>San Francisco</td>\n",
       "      <td>NaN</td>\n",
       "    </tr>\n",
       "    <tr>\n",
       "      <th>1</th>\n",
       "      <td>2</td>\n",
       "      <td>GARY JIMENEZ</td>\n",
       "      <td>CAPTAIN III (POLICE DEPARTMENT)</td>\n",
       "      <td>155966.02</td>\n",
       "      <td>245131.88</td>\n",
       "      <td>137811.38</td>\n",
       "      <td>NaN</td>\n",
       "      <td>538909.28</td>\n",
       "      <td>538909.28</td>\n",
       "      <td>2011</td>\n",
       "      <td>NaN</td>\n",
       "      <td>San Francisco</td>\n",
       "      <td>NaN</td>\n",
       "    </tr>\n",
       "    <tr>\n",
       "      <th>2</th>\n",
       "      <td>3</td>\n",
       "      <td>ALBERT PARDINI</td>\n",
       "      <td>CAPTAIN III (POLICE DEPARTMENT)</td>\n",
       "      <td>212739.13</td>\n",
       "      <td>106088.18</td>\n",
       "      <td>16452.6</td>\n",
       "      <td>NaN</td>\n",
       "      <td>335279.91</td>\n",
       "      <td>335279.91</td>\n",
       "      <td>2011</td>\n",
       "      <td>NaN</td>\n",
       "      <td>San Francisco</td>\n",
       "      <td>NaN</td>\n",
       "    </tr>\n",
       "    <tr>\n",
       "      <th>3</th>\n",
       "      <td>4</td>\n",
       "      <td>CHRISTOPHER CHONG</td>\n",
       "      <td>WIRE ROPE CABLE MAINTENANCE MECHANIC</td>\n",
       "      <td>77916</td>\n",
       "      <td>56120.71</td>\n",
       "      <td>198306.9</td>\n",
       "      <td>NaN</td>\n",
       "      <td>332343.61</td>\n",
       "      <td>332343.61</td>\n",
       "      <td>2011</td>\n",
       "      <td>NaN</td>\n",
       "      <td>San Francisco</td>\n",
       "      <td>NaN</td>\n",
       "    </tr>\n",
       "    <tr>\n",
       "      <th>4</th>\n",
       "      <td>5</td>\n",
       "      <td>PATRICK GARDNER</td>\n",
       "      <td>DEPUTY CHIEF OF DEPARTMENT,(FIRE DEPARTMENT)</td>\n",
       "      <td>134401.6</td>\n",
       "      <td>9737</td>\n",
       "      <td>182234.59</td>\n",
       "      <td>NaN</td>\n",
       "      <td>326373.19</td>\n",
       "      <td>326373.19</td>\n",
       "      <td>2011</td>\n",
       "      <td>NaN</td>\n",
       "      <td>San Francisco</td>\n",
       "      <td>NaN</td>\n",
       "    </tr>\n",
       "  </tbody>\n",
       "</table>\n",
       "</div>"
      ],
      "text/plain": [
       "   Id       EmployeeName                                        JobTitle  \\\n",
       "0   1     NATHANIEL FORD  GENERAL MANAGER-METROPOLITAN TRANSIT AUTHORITY   \n",
       "1   2       GARY JIMENEZ                 CAPTAIN III (POLICE DEPARTMENT)   \n",
       "2   3     ALBERT PARDINI                 CAPTAIN III (POLICE DEPARTMENT)   \n",
       "3   4  CHRISTOPHER CHONG            WIRE ROPE CABLE MAINTENANCE MECHANIC   \n",
       "4   5    PATRICK GARDNER    DEPUTY CHIEF OF DEPARTMENT,(FIRE DEPARTMENT)   \n",
       "\n",
       "     BasePay OvertimePay   OtherPay Benefits   TotalPay TotalPayBenefits  \\\n",
       "0  167411.18           0  400184.25      NaN  567595.43        567595.43   \n",
       "1  155966.02   245131.88  137811.38      NaN  538909.28        538909.28   \n",
       "2  212739.13   106088.18    16452.6      NaN  335279.91        335279.91   \n",
       "3      77916    56120.71   198306.9      NaN  332343.61        332343.61   \n",
       "4   134401.6        9737  182234.59      NaN  326373.19        326373.19   \n",
       "\n",
       "   Year  Notes         Agency Status  \n",
       "0  2011    NaN  San Francisco    NaN  \n",
       "1  2011    NaN  San Francisco    NaN  \n",
       "2  2011    NaN  San Francisco    NaN  \n",
       "3  2011    NaN  San Francisco    NaN  \n",
       "4  2011    NaN  San Francisco    NaN  "
      ]
     },
     "execution_count": 4,
     "metadata": {},
     "output_type": "execute_result"
    }
   ],
   "source": [
    "# İlk 5 satırı yazdır\n",
    "df.head()"
   ]
  },
  {
   "cell_type": "code",
   "execution_count": 5,
   "metadata": {},
   "outputs": [
    {
     "data": {
      "text/html": [
       "<div>\n",
       "<style scoped>\n",
       "    .dataframe tbody tr th:only-of-type {\n",
       "        vertical-align: middle;\n",
       "    }\n",
       "\n",
       "    .dataframe tbody tr th {\n",
       "        vertical-align: top;\n",
       "    }\n",
       "\n",
       "    .dataframe thead th {\n",
       "        text-align: right;\n",
       "    }\n",
       "</style>\n",
       "<table border=\"1\" class=\"dataframe\">\n",
       "  <thead>\n",
       "    <tr style=\"text-align: right;\">\n",
       "      <th></th>\n",
       "      <th>Id</th>\n",
       "      <th>EmployeeName</th>\n",
       "      <th>JobTitle</th>\n",
       "      <th>BasePay</th>\n",
       "      <th>OvertimePay</th>\n",
       "      <th>OtherPay</th>\n",
       "      <th>Benefits</th>\n",
       "      <th>TotalPay</th>\n",
       "      <th>TotalPayBenefits</th>\n",
       "      <th>Year</th>\n",
       "      <th>Notes</th>\n",
       "      <th>Agency</th>\n",
       "      <th>Status</th>\n",
       "    </tr>\n",
       "  </thead>\n",
       "  <tbody>\n",
       "    <tr>\n",
       "      <th>148649</th>\n",
       "      <td>148650</td>\n",
       "      <td>Roy I Tillery</td>\n",
       "      <td>Custodian</td>\n",
       "      <td>0</td>\n",
       "      <td>0</td>\n",
       "      <td>0</td>\n",
       "      <td>0</td>\n",
       "      <td>0</td>\n",
       "      <td>0</td>\n",
       "      <td>2014</td>\n",
       "      <td>NaN</td>\n",
       "      <td>San Francisco</td>\n",
       "      <td>PT</td>\n",
       "    </tr>\n",
       "    <tr>\n",
       "      <th>148650</th>\n",
       "      <td>148651</td>\n",
       "      <td>Not provided</td>\n",
       "      <td>Not provided</td>\n",
       "      <td>Not Provided</td>\n",
       "      <td>Not Provided</td>\n",
       "      <td>Not Provided</td>\n",
       "      <td>Not Provided</td>\n",
       "      <td>0</td>\n",
       "      <td>0</td>\n",
       "      <td>2014</td>\n",
       "      <td>NaN</td>\n",
       "      <td>San Francisco</td>\n",
       "      <td>NaN</td>\n",
       "    </tr>\n",
       "    <tr>\n",
       "      <th>148651</th>\n",
       "      <td>148652</td>\n",
       "      <td>Not provided</td>\n",
       "      <td>Not provided</td>\n",
       "      <td>Not Provided</td>\n",
       "      <td>Not Provided</td>\n",
       "      <td>Not Provided</td>\n",
       "      <td>Not Provided</td>\n",
       "      <td>0</td>\n",
       "      <td>0</td>\n",
       "      <td>2014</td>\n",
       "      <td>NaN</td>\n",
       "      <td>San Francisco</td>\n",
       "      <td>NaN</td>\n",
       "    </tr>\n",
       "    <tr>\n",
       "      <th>148652</th>\n",
       "      <td>148653</td>\n",
       "      <td>Not provided</td>\n",
       "      <td>Not provided</td>\n",
       "      <td>Not Provided</td>\n",
       "      <td>Not Provided</td>\n",
       "      <td>Not Provided</td>\n",
       "      <td>Not Provided</td>\n",
       "      <td>0</td>\n",
       "      <td>0</td>\n",
       "      <td>2014</td>\n",
       "      <td>NaN</td>\n",
       "      <td>San Francisco</td>\n",
       "      <td>NaN</td>\n",
       "    </tr>\n",
       "    <tr>\n",
       "      <th>148653</th>\n",
       "      <td>148654</td>\n",
       "      <td>Joe Lopez</td>\n",
       "      <td>Counselor, Log Cabin Ranch</td>\n",
       "      <td>0</td>\n",
       "      <td>0</td>\n",
       "      <td>-618.13</td>\n",
       "      <td>0</td>\n",
       "      <td>-618.13</td>\n",
       "      <td>-618.13</td>\n",
       "      <td>2014</td>\n",
       "      <td>NaN</td>\n",
       "      <td>San Francisco</td>\n",
       "      <td>PT</td>\n",
       "    </tr>\n",
       "  </tbody>\n",
       "</table>\n",
       "</div>"
      ],
      "text/plain": [
       "            Id   EmployeeName                    JobTitle       BasePay  \\\n",
       "148649  148650  Roy I Tillery                   Custodian             0   \n",
       "148650  148651   Not provided                Not provided  Not Provided   \n",
       "148651  148652   Not provided                Not provided  Not Provided   \n",
       "148652  148653   Not provided                Not provided  Not Provided   \n",
       "148653  148654      Joe Lopez  Counselor, Log Cabin Ranch             0   \n",
       "\n",
       "         OvertimePay      OtherPay      Benefits TotalPay TotalPayBenefits  \\\n",
       "148649             0             0             0        0                0   \n",
       "148650  Not Provided  Not Provided  Not Provided        0                0   \n",
       "148651  Not Provided  Not Provided  Not Provided        0                0   \n",
       "148652  Not Provided  Not Provided  Not Provided        0                0   \n",
       "148653             0       -618.13             0  -618.13          -618.13   \n",
       "\n",
       "        Year  Notes         Agency Status  \n",
       "148649  2014    NaN  San Francisco     PT  \n",
       "148650  2014    NaN  San Francisco    NaN  \n",
       "148651  2014    NaN  San Francisco    NaN  \n",
       "148652  2014    NaN  San Francisco    NaN  \n",
       "148653  2014    NaN  San Francisco     PT  "
      ]
     },
     "execution_count": 5,
     "metadata": {},
     "output_type": "execute_result"
    }
   ],
   "source": [
    "# Son 5 satırı yazdır\n",
    "df.tail()"
   ]
  },
  {
   "cell_type": "code",
   "execution_count": 45,
   "metadata": {},
   "outputs": [
    {
     "name": "stdout",
     "output_type": "stream",
     "text": [
      "Job Title Length ile Job Title ASCII Sum arasındaki korelasyon: 0.9299280067128691\n"
     ]
    }
   ],
   "source": [
    "# Job Title sütununu al ve uzunluğunu hesapla\n",
    "df['Job Title Length'] = df['JobTitle'].apply(len)\n",
    "\n",
    "# Job Title'ı sayısal forma dönüştür (Basit bir yöntem olarak her karakterin ASCII değerlerini toplama)\n",
    "df['Job Title ASCII Sum'] = df['JobTitle'].apply(lambda x: sum(ord(c) for c in x))\n",
    "\n",
    "# Korelasyon hesaplama\n",
    "correlation = df[['Job Title Length', 'Job Title ASCII Sum']].corr().iloc[0, 1]\n",
    "\n",
    "print(\"Job Title Length ile Job Title ASCII Sum arasındaki korelasyon:\", correlation)"
   ]
  },
  {
   "cell_type": "code",
   "execution_count": 46,
   "metadata": {},
   "outputs": [
    {
     "name": "stdout",
     "output_type": "stream",
     "text": [
      "Toplam giriş sayısı: 148654\n",
      "\n",
      "Sütunlar ve veri türleri:\n",
      "Id                       int64\n",
      "EmployeeName            object\n",
      "JobTitle                object\n",
      "BasePay                 object\n",
      "OvertimePay             object\n",
      "OtherPay                object\n",
      "Benefits                object\n",
      "TotalPay                object\n",
      "TotalPayBenefits        object\n",
      "Year                     int64\n",
      "Notes                  float64\n",
      "Agency                  object\n",
      "Status                  object\n",
      "Job Title Length         int64\n",
      "Job Title ASCII Sum      int64\n",
      "dtype: object\n"
     ]
    }
   ],
   "source": [
    "# Genel bilgileri görüntüle\n",
    "print(\"Toplam giriş sayısı:\", len(df))\n",
    "print(\"\\nSütunlar ve veri türleri:\")\n",
    "print(df.dtypes)"
   ]
  },
  {
   "cell_type": "code",
   "execution_count": 47,
   "metadata": {},
   "outputs": [
    {
     "name": "stdout",
     "output_type": "stream",
     "text": [
      "TotalPay sütunundaki ortalama değer: 74781.40\n",
      "TotalPay sütunundaki en yüksek değer: 567595.43\n"
     ]
    }
   ],
   "source": [
    "# TotalPay sütununu sayısal türde dönüştür (hatalı verileri NaN olarak işaretle)\n",
    "df['TotalPay'] = pd.to_numeric(df['TotalPay'], errors='coerce')\n",
    "\n",
    "# TotalPay sütunundaki ortalama değeri hesapla\n",
    "average_total_pay = df['TotalPay'].mean()\n",
    "\n",
    "# TotalPay sütunundaki en yüksek değeri hesapla\n",
    "max_total_pay = df['TotalPay'].max()\n",
    "\n",
    "# Sonuçları formatla ve yazdır\n",
    "print(f\"TotalPay sütunundaki ortalama değer: {average_total_pay:.2f}\")\n",
    "print(f\"TotalPay sütunundaki en yüksek değer: {max_total_pay:.2f}\")"
   ]
  },
  {
   "cell_type": "code",
   "execution_count": 48,
   "metadata": {},
   "outputs": [
    {
     "name": "stdout",
     "output_type": "stream",
     "text": [
      "Albert Pardini'nin iş unvanı: Captain 3\n"
     ]
    }
   ],
   "source": [
    "# Albert Pardini'nin işi(job title)\n",
    "albert_job_title = df.loc[df['EmployeeName'] == 'Albert Pardini', 'JobTitle'].values[0]\n",
    "\n",
    "print(f\"Albert Pardini'nin iş unvanı: {albert_job_title}\")"
   ]
  },
  {
   "cell_type": "code",
   "execution_count": 49,
   "metadata": {},
   "outputs": [
    {
     "name": "stdout",
     "output_type": "stream",
     "text": [
      "Albert Pardini ne kadar kazanıyor: 253995.29\n"
     ]
    }
   ],
   "source": [
    "# Albert Pardini ne kadar kazanıyor\n",
    "albert_Total_Pay_Benefits = df.loc[df['EmployeeName'] == 'Albert Pardini', 'TotalPayBenefits'].values[0]\n",
    "\n",
    "print(f\"Albert Pardini ne kadar kazanıyor: {albert_Total_Pay_Benefits}\")"
   ]
  },
  {
   "cell_type": "code",
   "execution_count": 50,
   "metadata": {},
   "outputs": [
    {
     "name": "stdout",
     "output_type": "stream",
     "text": [
      "2011 yılı için çalışanların yıllık toplam maaş ortalaması: 71754.02\n",
      "2012 yılı için çalışanların yıllık toplam maaş ortalaması: 74125.36\n",
      "2013 yılı için çalışanların yıllık toplam maaş ortalaması: 77630.02\n",
      "2014 yılı için çalışanların yıllık toplam maaş ortalaması: 75475.79\n"
     ]
    }
   ],
   "source": [
    "# Yıllık tüm çalışanların totalpay ortalaması\n",
    "# TotalPay sütununu sayısal türe dönüştür (hatalı verileri NaN olarak işaretle)\n",
    "df['TotalPay'] = pd.to_numeric(df['TotalPay'], errors='coerce')\n",
    "\n",
    "# Her yıl için TotalPay sütunundaki yıllık ortalama değeri hesapla\n",
    "average_total_pay_by_year = df.groupby('Year')['TotalPay'].mean()\n",
    "\n",
    "# Sonuçları formatla ve yazdır\n",
    "for year, avg_pay in average_total_pay_by_year.items():\n",
    "    print(f\"{year} yılı için çalışanların yıllık toplam maaş ortalaması: {avg_pay:.2f}\")"
   ]
  },
  {
   "cell_type": "code",
   "execution_count": 51,
   "metadata": {},
   "outputs": [
    {
     "name": "stdout",
     "output_type": "stream",
     "text": [
      "Unique iş sayısı: 2159\n"
     ]
    }
   ],
   "source": [
    "# Kaç tane unique iş var\n",
    "unique_job_titles = df['JobTitle'].nunique()\n",
    "\n",
    "# Sonucu yazdır\n",
    "print(f\"Unique iş sayısı: {unique_job_titles}\")"
   ]
  },
  {
   "cell_type": "code",
   "execution_count": 52,
   "metadata": {},
   "outputs": [
    {
     "name": "stdout",
     "output_type": "stream",
     "text": [
      "En yaygın 5 iş türü:\n",
      "JobTitle\n",
      "Transit Operator                7036\n",
      "Special Nurse                   4389\n",
      "Registered Nurse                3736\n",
      "Public Svc Aide-Public Works    2518\n",
      "Police Officer 3                2421\n",
      "Name: count, dtype: int64\n"
     ]
    }
   ],
   "source": [
    "# En yaygın 5 iş türü\n",
    "# JobTitle sütunundaki her işin frekansını hesapla\n",
    "job_title_counts = df['JobTitle'].value_counts()\n",
    "\n",
    "# En yaygın 5 iş türünü al\n",
    "top_5_job_titles = job_title_counts.head(5)\n",
    "\n",
    "# Sonuçları yazdır\n",
    "print(\"En yaygın 5 iş türü:\")\n",
    "print(top_5_job_titles)\n"
   ]
  },
  {
   "cell_type": "code",
   "execution_count": 53,
   "metadata": {},
   "outputs": [
    {
     "name": "stdout",
     "output_type": "stream",
     "text": [
      "'Chief' kelimesini içeren iş unvanı sayısı: 423\n"
     ]
    }
   ],
   "source": [
    "# JobTitle sütununda \"Chief\" kelimesini içeren iş unvanlarının sayısı\n",
    "chief_count = df['JobTitle'].str.contains('Chief').sum()\n",
    "\n",
    "# Sonucu yazdır\n",
    "print(f\"'Chief' kelimesini içeren iş unvanı sayısı: {chief_count}\")"
   ]
  }
 ],
 "metadata": {
  "kernelspec": {
   "display_name": "Python 3",
   "language": "python",
   "name": "python3"
  },
  "language_info": {
   "codemirror_mode": {
    "name": "ipython",
    "version": 3
   },
   "file_extension": ".py",
   "mimetype": "text/x-python",
   "name": "python",
   "nbconvert_exporter": "python",
   "pygments_lexer": "ipython3",
   "version": "3.12.3"
  }
 },
 "nbformat": 4,
 "nbformat_minor": 2
}
